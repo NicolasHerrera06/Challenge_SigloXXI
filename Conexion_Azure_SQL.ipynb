{
 "cells": [
  {
   "cell_type": "markdown",
   "metadata": {
    "application/vnd.databricks.v1+cell": {
     "cellMetadata": {},
     "inputWidgets": {},
     "nuid": "5d2ed7d0-716e-4455-b521-c272238562ed",
     "showTitle": false,
     "title": ""
    }
   },
   "source": [
    "# *Siglo XXI*\n",
    "##Challenge Data engineer \n",
    "###Azure"
   ]
  },
  {
   "cell_type": "markdown",
   "metadata": {
    "application/vnd.databricks.v1+cell": {
     "cellMetadata": {},
     "inputWidgets": {},
     "nuid": "7f6f4d87-5060-4743-8804-4c575dfefed8",
     "showTitle": false,
     "title": ""
    }
   },
   "source": [
    "Contexto \n",
    "\n",
    "Lectura de Datos desde una Base de Datos:\n",
    "\n",
    "- Conéctate a una base de datos SQL en Azure utilizando PySpark.\n",
    "- Realiza una consulta para extraer un conjunto de datos específico.\n",
    "- Realiza transformaciones en los datos según sea necesario.\n",
    "\n",
    "Escribe los datos de la parte 1.2 en un Azure Blob Storage en formato parquet y con las \n",
    "particiones que consideres adecuadas."
   ]
  },
  {
   "cell_type": "markdown",
   "metadata": {
    "application/vnd.databricks.v1+cell": {
     "cellMetadata": {},
     "inputWidgets": {},
     "nuid": "c9c01af3-4d29-426f-a342-8d7397343ec6",
     "showTitle": false,
     "title": ""
    }
   },
   "source": [
    "Para realizar este ejercicio se utilizó la siguiente Base de datos:\n",
    "    \n",
    "GO\n",
    "\n",
    "\tCREATE DATABASE Comics;\n",
    "\n",
    "GO\n",
    "\n",
    "\tUse Comics;\n",
    "\n",
    "GO\n",
    "\n",
    "Create table Superheroes (\n",
    "\n",
    "\tPersonaje varchar(20),\n",
    "\n",
    "\tNombre_Alter_Ego varchar(20),\n",
    "\n",
    "\tEdad INT,\n",
    "\n",
    "\tAltura_en_CM Int,\n",
    "\n",
    "\tPeso_en_kg Decimal(5,2),\n",
    "\n",
    "\tSuperpoder varchar(255),\n",
    "  \n",
    "\tCiudad varchar(20)\n",
    ");\n",
    "\n",
    "GO\n",
    "\n",
    "Insert into Superheroes Values\n",
    "\n",
    "\t('Batman','Bruno Díaz',30,188,95,'Ser Millonario','Ciudad Gótica'),\n",
    "\n",
    "\t('Spider Man','Peter Parker',18,178,76,'Movimientos araña','New york'),\n",
    "\n",
    "\t('Wonder Woman','Diana Prince',900,183,75,'Lazo salvaje','Islas Amazonas'),\n",
    "\n",
    "\t('Super Hijitus','Hijitus',null,null,null,'Sombrero Mágico','Trulalá'),\n",
    "\n",
    "\t('Wasp Woman','Janet van Dyne',26,162,50,'Controla bichos','New York'),\n",
    "\n",
    "\t('Hulk','Bruce Banner',47,300,540,'Ser verde y romper todo','New York'),\n",
    "\n",
    "\t('Catwoman','Selina Kyle',23,174,59.4,'Movimientos Gato','Ciudad Gótica'),\n",
    "\n",
    "\t('Radioactive man','Claude Kane III',null,null,null,'Super Fuerza','Springfield'),\n",
    "\n",
    "\t('Arrow','Oliver Queen',29,180,83.9,'Tirar flechas','Star City'),\n",
    "\n",
    "\t('The Invisible Woman','Susan Storm',27,170,54,'Ser Invisible','New York');\n",
    " \n",
    " GO"
   ]
  },
  {
   "cell_type": "markdown",
   "metadata": {
    "application/vnd.databricks.v1+cell": {
     "cellMetadata": {},
     "inputWidgets": {},
     "nuid": "756310eb-2d90-412d-80e3-afc42d6af50b",
     "showTitle": false,
     "title": ""
    }
   },
   "source": [
    "### **ETL realizado con pySpark**\n",
    "\n",
    "#### Ingesta de datos desde una base de datos Azure SQL Database"
   ]
  },
  {
   "cell_type": "markdown",
   "metadata": {
    "application/vnd.databricks.v1+cell": {
     "cellMetadata": {},
     "inputWidgets": {},
     "nuid": "ff7ba2e0-99e3-4ff1-9afc-34d8f6d4b6a6",
     "showTitle": false,
     "title": ""
    }
   },
   "source": [
    "Se importan las librerias"
   ]
  },
  {
   "cell_type": "code",
   "execution_count": null,
   "metadata": {
    "application/vnd.databricks.v1+cell": {
     "cellMetadata": {
      "byteLimit": 2048000,
      "rowLimit": 10000
     },
     "inputWidgets": {},
     "nuid": "e5f59cd0-35a2-42ee-9bee-5dfc0894546d",
     "showTitle": false,
     "title": ""
    }
   },
   "outputs": [],
   "source": [
    "%run \"/sigloXXI/Librerias\""
   ]
  },
  {
   "cell_type": "markdown",
   "metadata": {
    "application/vnd.databricks.v1+cell": {
     "cellMetadata": {},
     "inputWidgets": {},
     "nuid": "0badc50c-0f45-4b9a-8bc1-13ae24f252d0",
     "showTitle": false,
     "title": ""
    }
   },
   "source": [
    "Se realiza la conexión con Azure SQL Database, con la base de datos \"Comic\" y se trae la tabla Superheroes"
   ]
  },
  {
   "cell_type": "code",
   "execution_count": null,
   "metadata": {
    "application/vnd.databricks.v1+cell": {
     "cellMetadata": {
      "byteLimit": 2048000,
      "rowLimit": 10000
     },
     "inputWidgets": {},
     "nuid": "ec4fec16-f06a-4d90-91b2-3963196590cb",
     "showTitle": false,
     "title": ""
    }
   },
   "outputs": [],
   "source": [
    "jdbcHostname = \"HOSTNAME\" \n",
    "jdbcPort = <PORT> \n",
    "jdbcDatabase = \"<DATABASE>\" \n",
    "jdbcUsername = \"<USER>\" \n",
    "jdbcPassword = \"<PASSWORD>\"  \n",
    "jdbcDriver = \"com.microsoft.sqlserver.jdbc.SQLServerDriver\"\n",
    "\n",
    "jdbcUrl = f\"jdbc:sqlserver://{jdbcHostname}:{jdbcPort};databaseName={jdbcDatabase};user={jdbcUsername};password={jdbcPassword}\""
   ]
  },
  {
   "cell_type": "markdown",
   "metadata": {
    "application/vnd.databricks.v1+cell": {
     "cellMetadata": {},
     "inputWidgets": {},
     "nuid": "ec57eda0-e19a-447e-85df-5bd9e6e2acb5",
     "showTitle": false,
     "title": ""
    }
   },
   "source": [
    "Se crea un dataframe a partir de la tabla Superheroes"
   ]
  },
  {
   "cell_type": "code",
   "execution_count": null,
   "metadata": {
    "application/vnd.databricks.v1+cell": {
     "cellMetadata": {
      "byteLimit": 2048000,
      "rowLimit": 10000
     },
     "inputWidgets": {},
     "nuid": "8f0cf21f-6be7-49bf-8a20-e2894faeb8b6",
     "showTitle": false,
     "title": ""
    }
   },
   "outputs": [],
   "source": [
    "df = spark.read.format(\"jdbc\").option(\"url\", jdbcUrl).option(\"dbtable\", \"<TABLE>\").load()\n",
    "display(df)"
   ]
  },
  {
   "cell_type": "markdown",
   "metadata": {
    "application/vnd.databricks.v1+cell": {
     "cellMetadata": {},
     "inputWidgets": {},
     "nuid": "b5366a78-b669-4bc6-9503-610553b035f9",
     "showTitle": false,
     "title": ""
    }
   },
   "source": [
    "### **Persistensia de Datos en DataLakeGen2**\n",
    "\n",
    "Parte 2: Integración de Servicios en Azure \n",
    "\n",
    "Escribe los datos de la parte 1.2 en un Azure Blob Storage en formato parquet y con las \n",
    "particiones que consideres adecuadas. "
   ]
  },
  {
   "cell_type": "code",
   "execution_count": null,
   "metadata": {
    "application/vnd.databricks.v1+cell": {
     "cellMetadata": {},
     "inputWidgets": {},
     "nuid": "b57fa746-497e-4d7b-a7c5-766d9d5ead0e",
     "showTitle": false,
     "title": ""
    }
   },
   "outputs": [],
   "source": [
    "# Configuracion de la conexión \n",
    "configs = {\"fs.azure.account.auth.type\":\"OAuth\",\n",
    "           \"fs.azure.account.oauth.provider.type\": \"org.apache.hadoop.fs.azurebfs.oauth2.ClientCredsTokenProvider\",\n",
    "           \"fs.azure.account.oauth2.client.id\": \"<CLIENT_ID>\",\n",
    "           \"fs.azure.account.oauth2.client.secret\": \"<SECRET>\",\n",
    "           \"fs.azure.account.oauth2.client.endpoint\": \"https://login.microsoftonline.com/<ENDPOINT>/oauth2/token\"}\n",
    "dbutils.fs.mount(\n",
    "    source = \"abfss://<CONTAINER>@<STORAGE_ACCOUNT>.dfs.core.windows.net/\",\n",
    "    mount_point = \"/mnt/<STORAGE_ACCOUNT>/<CONTAINER>\",\n",
    "    extra_configs = configs\n",
    ")"
   ]
  },
  {
   "cell_type": "markdown",
   "metadata": {
    "application/vnd.databricks.v1+cell": {
     "cellMetadata": {},
     "inputWidgets": {},
     "nuid": "61174ee1-b7d4-4cea-b525-e70d4d6034b2",
     "showTitle": false,
     "title": ""
    }
   },
   "source": [
    "Se escribe el DataFrame en formato Parquet particionado por el campo Personaje"
   ]
  },
  {
   "cell_type": "code",
   "execution_count": null,
   "metadata": {
    "application/vnd.databricks.v1+cell": {
     "cellMetadata": {},
     "inputWidgets": {},
     "nuid": "15d6fb01-935b-463d-9b70-2317fea82cd4",
     "showTitle": false,
     "title": ""
    }
   },
   "outputs": [],
   "source": [
    "# Se calcula la fecha y hora actual\n",
    "date_file = datetime.now().strftime(\"%Y-%m-%d %H:%M:%S\")\n",
    "\n",
    "# Ruta destino mas fecha y hora actual\n",
    "ruta_parquet = \"/mnt/<STORAGE_ACCOUNT>/<CONTAINER>\" + date_file\n",
    "\n",
    "# Escribe el DataFrame en formato Parquet con partición\n",
    "df.write.partitionBy(\"Personaje\").parquet(ruta_parquet, mode=\"overwrite\")\n",
    "\n",
    "print(\"Datos procesados almacenados en Azure Data Lake Storage\")"
   ]
  }
 ],
 "metadata": {
  "application/vnd.databricks.v1+notebook": {
   "dashboards": [],
   "language": "python",
   "notebookMetadata": {
    "pythonIndentUnit": 4
   },
   "notebookName": "Conexion_Azure_SQL",
   "widgets": {}
  },
  "language_info": {
   "name": "python"
  }
 },
 "nbformat": 4,
 "nbformat_minor": 0
}
